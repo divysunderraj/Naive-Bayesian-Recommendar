{
 "cells": [
  {
   "cell_type": "code",
   "execution_count": 76,
   "metadata": {},
   "outputs": [],
   "source": [
    "import pandas as pd\n",
    "import numpy as np\n",
    "import base64\n",
    "import requests\n",
    "import datetime\n",
    "from sklearn.metrics import mean_squared_error"
   ]
  },
  {
   "cell_type": "code",
   "execution_count": 77,
   "metadata": {},
   "outputs": [
    {
     "name": "stdout",
     "output_type": "stream",
     "text": [
      "    userId  movieId  rating\n",
      "0        1        2       1\n",
      "1        1        3       2\n",
      "2        1        4       2\n",
      "3        1        5       5\n",
      "4        1        7       4\n",
      "5        1        8       3\n",
      "6        1        9       5\n",
      "7        2        1       1\n",
      "8        2        2       5\n",
      "9        2        3       3\n",
      "10       2        5       2\n",
      "11       2        6       3\n",
      "12       2        7       4\n",
      "13       2        8       3\n",
      "14       3        1       1\n",
      "15       3        2       1\n",
      "16       3        3       2\n",
      "17       3        5       2\n",
      "18       3        6       4\n",
      "19       3        7       4\n",
      "20       3        8       5\n",
      "21       4        1       3\n",
      "22       4        2       2\n",
      "23       4        3       2\n",
      "24       4        4       3\n",
      "25       4        6       1\n",
      "26       4        7       3\n",
      "27       4        8       2\n",
      "28       5        1       5\n",
      "29       5        2       1\n",
      "30       5        3       5\n",
      "31       5        4       5\n",
      "32       5        5       4\n",
      "33       5        6       4\n",
      "34       5        7       5\n",
      "35       5        8       2\n"
     ]
    },
    {
     "data": {
      "text/plain": [
       "36"
      ]
     },
     "execution_count": 77,
     "metadata": {},
     "output_type": "execute_result"
    }
   ],
   "source": [
    "data = pd.read_csv('test_book.csv')\n",
    "data.head()\n",
    "\n",
    "df = data[['userId', 'movieId', 'rating']]\n",
    "#df.loc[df['userId'] == 1,]\n",
    "df.head(10)\n",
    "print(df)\n",
    "df.shape[0]\n"
   ]
  },
  {
   "cell_type": "code",
   "execution_count": 78,
   "metadata": {},
   "outputs": [
    {
     "name": "stdout",
     "output_type": "stream",
     "text": [
      "29 7\n"
     ]
    }
   ],
   "source": [
    "training_data = df.sample(frac=0.8, random_state=25) \n",
    "testing_data = df.drop(training_data.index)\n",
    "testing_data['enjoyed'] = (testing_data['rating'] > 3)\n",
    "\n",
    "df = training_data #training data will be referred to as df\n",
    "print(df.shape[0], testing_data.shape[0])"
   ]
  },
  {
   "cell_type": "code",
   "execution_count": 79,
   "metadata": {},
   "outputs": [
    {
     "data": {
      "text/html": [
       "<div>\n",
       "<style scoped>\n",
       "    .dataframe tbody tr th:only-of-type {\n",
       "        vertical-align: middle;\n",
       "    }\n",
       "\n",
       "    .dataframe tbody tr th {\n",
       "        vertical-align: top;\n",
       "    }\n",
       "\n",
       "    .dataframe thead th {\n",
       "        text-align: right;\n",
       "    }\n",
       "</style>\n",
       "<table border=\"1\" class=\"dataframe\">\n",
       "  <thead>\n",
       "    <tr style=\"text-align: right;\">\n",
       "      <th></th>\n",
       "      <th>userId</th>\n",
       "      <th>movieId</th>\n",
       "    </tr>\n",
       "  </thead>\n",
       "  <tbody>\n",
       "    <tr>\n",
       "      <th>0</th>\n",
       "      <td>1</td>\n",
       "      <td>[7]</td>\n",
       "    </tr>\n",
       "    <tr>\n",
       "      <th>1</th>\n",
       "      <td>2</td>\n",
       "      <td>[7]</td>\n",
       "    </tr>\n",
       "    <tr>\n",
       "      <th>2</th>\n",
       "      <td>3</td>\n",
       "      <td>[2, 6]</td>\n",
       "    </tr>\n",
       "    <tr>\n",
       "      <th>3</th>\n",
       "      <td>4</td>\n",
       "      <td>[3, 7]</td>\n",
       "    </tr>\n",
       "    <tr>\n",
       "      <th>4</th>\n",
       "      <td>5</td>\n",
       "      <td>[2]</td>\n",
       "    </tr>\n",
       "  </tbody>\n",
       "</table>\n",
       "</div>"
      ],
      "text/plain": [
       "   userId movieId\n",
       "0       1     [7]\n",
       "1       2     [7]\n",
       "2       3  [2, 6]\n",
       "3       4  [3, 7]\n",
       "4       5     [2]"
      ]
     },
     "execution_count": 79,
     "metadata": {},
     "output_type": "execute_result"
    }
   ],
   "source": [
    "testing_data.groupby('userId').movieId.agg(list).reset_index()"
   ]
  },
  {
   "cell_type": "code",
   "execution_count": 80,
   "metadata": {},
   "outputs": [
    {
     "data": {
      "text/html": [
       "<div>\n",
       "<style scoped>\n",
       "    .dataframe tbody tr th:only-of-type {\n",
       "        vertical-align: middle;\n",
       "    }\n",
       "\n",
       "    .dataframe tbody tr th {\n",
       "        vertical-align: top;\n",
       "    }\n",
       "\n",
       "    .dataframe thead th {\n",
       "        text-align: right;\n",
       "    }\n",
       "</style>\n",
       "<table border=\"1\" class=\"dataframe\">\n",
       "  <thead>\n",
       "    <tr style=\"text-align: right;\">\n",
       "      <th></th>\n",
       "      <th>userId</th>\n",
       "      <th>movieId</th>\n",
       "    </tr>\n",
       "  </thead>\n",
       "  <tbody>\n",
       "    <tr>\n",
       "      <th>0</th>\n",
       "      <td>1</td>\n",
       "      <td>[9, 4, 2, 5, 3, 8]</td>\n",
       "    </tr>\n",
       "    <tr>\n",
       "      <th>1</th>\n",
       "      <td>2</td>\n",
       "      <td>[5, 6, 3, 8, 1, 2]</td>\n",
       "    </tr>\n",
       "    <tr>\n",
       "      <th>2</th>\n",
       "      <td>3</td>\n",
       "      <td>[5, 1, 7, 3, 8]</td>\n",
       "    </tr>\n",
       "    <tr>\n",
       "      <th>3</th>\n",
       "      <td>4</td>\n",
       "      <td>[2, 8, 4, 1, 6]</td>\n",
       "    </tr>\n",
       "    <tr>\n",
       "      <th>4</th>\n",
       "      <td>5</td>\n",
       "      <td>[3, 1, 4, 6, 5, 7, 8]</td>\n",
       "    </tr>\n",
       "  </tbody>\n",
       "</table>\n",
       "</div>"
      ],
      "text/plain": [
       "   userId                movieId\n",
       "0       1     [9, 4, 2, 5, 3, 8]\n",
       "1       2     [5, 6, 3, 8, 1, 2]\n",
       "2       3        [5, 1, 7, 3, 8]\n",
       "3       4        [2, 8, 4, 1, 6]\n",
       "4       5  [3, 1, 4, 6, 5, 7, 8]"
      ]
     },
     "execution_count": 80,
     "metadata": {},
     "output_type": "execute_result"
    }
   ],
   "source": [
    "user_rated_movies_df = df.groupby('userId').movieId.agg(list).reset_index()\n",
    "user_rated_movies_df\n",
    "\n"
   ]
  },
  {
   "cell_type": "code",
   "execution_count": 81,
   "metadata": {},
   "outputs": [
    {
     "data": {
      "text/html": [
       "<div>\n",
       "<style scoped>\n",
       "    .dataframe tbody tr th:only-of-type {\n",
       "        vertical-align: middle;\n",
       "    }\n",
       "\n",
       "    .dataframe tbody tr th {\n",
       "        vertical-align: top;\n",
       "    }\n",
       "\n",
       "    .dataframe thead th {\n",
       "        text-align: right;\n",
       "    }\n",
       "</style>\n",
       "<table border=\"1\" class=\"dataframe\">\n",
       "  <thead>\n",
       "    <tr style=\"text-align: right;\">\n",
       "      <th></th>\n",
       "      <th>movieId</th>\n",
       "      <th>userId</th>\n",
       "    </tr>\n",
       "  </thead>\n",
       "  <tbody>\n",
       "    <tr>\n",
       "      <th>0</th>\n",
       "      <td>1</td>\n",
       "      <td>[5, 3, 4, 2]</td>\n",
       "    </tr>\n",
       "    <tr>\n",
       "      <th>1</th>\n",
       "      <td>2</td>\n",
       "      <td>[4, 1, 2]</td>\n",
       "    </tr>\n",
       "    <tr>\n",
       "      <th>2</th>\n",
       "      <td>3</td>\n",
       "      <td>[5, 2, 3, 1]</td>\n",
       "    </tr>\n",
       "    <tr>\n",
       "      <th>3</th>\n",
       "      <td>4</td>\n",
       "      <td>[4, 1, 5]</td>\n",
       "    </tr>\n",
       "    <tr>\n",
       "      <th>4</th>\n",
       "      <td>5</td>\n",
       "      <td>[2, 3, 5, 1]</td>\n",
       "    </tr>\n",
       "    <tr>\n",
       "      <th>5</th>\n",
       "      <td>6</td>\n",
       "      <td>[2, 5, 4]</td>\n",
       "    </tr>\n",
       "    <tr>\n",
       "      <th>6</th>\n",
       "      <td>7</td>\n",
       "      <td>[3, 5]</td>\n",
       "    </tr>\n",
       "    <tr>\n",
       "      <th>7</th>\n",
       "      <td>8</td>\n",
       "      <td>[4, 2, 1, 3, 5]</td>\n",
       "    </tr>\n",
       "    <tr>\n",
       "      <th>8</th>\n",
       "      <td>9</td>\n",
       "      <td>[1]</td>\n",
       "    </tr>\n",
       "  </tbody>\n",
       "</table>\n",
       "</div>"
      ],
      "text/plain": [
       "   movieId           userId\n",
       "0        1     [5, 3, 4, 2]\n",
       "1        2        [4, 1, 2]\n",
       "2        3     [5, 2, 3, 1]\n",
       "3        4        [4, 1, 5]\n",
       "4        5     [2, 3, 5, 1]\n",
       "5        6        [2, 5, 4]\n",
       "6        7           [3, 5]\n",
       "7        8  [4, 2, 1, 3, 5]\n",
       "8        9              [1]"
      ]
     },
     "execution_count": 81,
     "metadata": {},
     "output_type": "execute_result"
    }
   ],
   "source": [
    "df.groupby('movieId').userId.agg(list).reset_index()"
   ]
  },
  {
   "cell_type": "code",
   "execution_count": 82,
   "metadata": {},
   "outputs": [
    {
     "data": {
      "text/plain": [
       "{1: {'userId': [5, 3, 4, 2]},\n",
       " 2: {'userId': [4, 1, 2]},\n",
       " 3: {'userId': [5, 2, 3, 1]},\n",
       " 4: {'userId': [4, 1, 5]},\n",
       " 5: {'userId': [2, 3, 5, 1]},\n",
       " 6: {'userId': [2, 5, 4]},\n",
       " 7: {'userId': [3, 5]},\n",
       " 8: {'userId': [4, 2, 1, 3, 5]},\n",
       " 9: {'userId': [1]}}"
      ]
     },
     "execution_count": 82,
     "metadata": {},
     "output_type": "execute_result"
    }
   ],
   "source": [
    "users_that_rated_movie = df.groupby('movieId').userId.agg(list).reset_index().set_index('movieId').T.to_dict()\n",
    "users_that_rated_movie"
   ]
  },
  {
   "cell_type": "code",
   "execution_count": 83,
   "metadata": {},
   "outputs": [
    {
     "data": {
      "text/html": [
       "<div>\n",
       "<style scoped>\n",
       "    .dataframe tbody tr th:only-of-type {\n",
       "        vertical-align: middle;\n",
       "    }\n",
       "\n",
       "    .dataframe tbody tr th {\n",
       "        vertical-align: top;\n",
       "    }\n",
       "\n",
       "    .dataframe thead th {\n",
       "        text-align: right;\n",
       "    }\n",
       "</style>\n",
       "<table border=\"1\" class=\"dataframe\">\n",
       "  <thead>\n",
       "    <tr style=\"text-align: right;\">\n",
       "      <th>movieId</th>\n",
       "      <th>userId</th>\n",
       "      <th>1</th>\n",
       "      <th>2</th>\n",
       "      <th>3</th>\n",
       "      <th>4</th>\n",
       "      <th>5</th>\n",
       "      <th>6</th>\n",
       "      <th>7</th>\n",
       "      <th>8</th>\n",
       "      <th>9</th>\n",
       "    </tr>\n",
       "  </thead>\n",
       "  <tbody>\n",
       "    <tr>\n",
       "      <th>0</th>\n",
       "      <td>1</td>\n",
       "      <td>NaN</td>\n",
       "      <td>1.0</td>\n",
       "      <td>2.0</td>\n",
       "      <td>2.0</td>\n",
       "      <td>5.0</td>\n",
       "      <td>NaN</td>\n",
       "      <td>NaN</td>\n",
       "      <td>3.0</td>\n",
       "      <td>5.0</td>\n",
       "    </tr>\n",
       "    <tr>\n",
       "      <th>1</th>\n",
       "      <td>2</td>\n",
       "      <td>1.0</td>\n",
       "      <td>5.0</td>\n",
       "      <td>3.0</td>\n",
       "      <td>NaN</td>\n",
       "      <td>2.0</td>\n",
       "      <td>3.0</td>\n",
       "      <td>NaN</td>\n",
       "      <td>3.0</td>\n",
       "      <td>NaN</td>\n",
       "    </tr>\n",
       "    <tr>\n",
       "      <th>2</th>\n",
       "      <td>3</td>\n",
       "      <td>1.0</td>\n",
       "      <td>NaN</td>\n",
       "      <td>2.0</td>\n",
       "      <td>NaN</td>\n",
       "      <td>2.0</td>\n",
       "      <td>NaN</td>\n",
       "      <td>4.0</td>\n",
       "      <td>5.0</td>\n",
       "      <td>NaN</td>\n",
       "    </tr>\n",
       "    <tr>\n",
       "      <th>3</th>\n",
       "      <td>4</td>\n",
       "      <td>3.0</td>\n",
       "      <td>2.0</td>\n",
       "      <td>NaN</td>\n",
       "      <td>3.0</td>\n",
       "      <td>NaN</td>\n",
       "      <td>1.0</td>\n",
       "      <td>NaN</td>\n",
       "      <td>2.0</td>\n",
       "      <td>NaN</td>\n",
       "    </tr>\n",
       "    <tr>\n",
       "      <th>4</th>\n",
       "      <td>5</td>\n",
       "      <td>5.0</td>\n",
       "      <td>NaN</td>\n",
       "      <td>5.0</td>\n",
       "      <td>5.0</td>\n",
       "      <td>4.0</td>\n",
       "      <td>4.0</td>\n",
       "      <td>5.0</td>\n",
       "      <td>2.0</td>\n",
       "      <td>NaN</td>\n",
       "    </tr>\n",
       "  </tbody>\n",
       "</table>\n",
       "</div>"
      ],
      "text/plain": [
       "movieId  userId    1    2    3    4    5    6    7    8    9\n",
       "0             1  NaN  1.0  2.0  2.0  5.0  NaN  NaN  3.0  5.0\n",
       "1             2  1.0  5.0  3.0  NaN  2.0  3.0  NaN  3.0  NaN\n",
       "2             3  1.0  NaN  2.0  NaN  2.0  NaN  4.0  5.0  NaN\n",
       "3             4  3.0  2.0  NaN  3.0  NaN  1.0  NaN  2.0  NaN\n",
       "4             5  5.0  NaN  5.0  5.0  4.0  4.0  5.0  2.0  NaN"
      ]
     },
     "execution_count": 83,
     "metadata": {},
     "output_type": "execute_result"
    }
   ],
   "source": [
    "# MATRIX FOR RATING OF EACH USER AND MOVIE PAIR\n",
    "\n",
    "newf = df.pivot(index='userId', columns='movieId')\n",
    "newf.columns = newf.columns.droplevel(0)\n",
    "\n",
    " \n",
    "matrix = newf.copy()\n",
    "\n",
    "newf.reset_index(inplace=True)\n",
    "\n",
    "\n",
    "\n",
    "newf.fillna('NaN', inplace=True)\n",
    "\n",
    "newf"
   ]
  },
  {
   "cell_type": "code",
   "execution_count": 84,
   "metadata": {},
   "outputs": [
    {
     "name": "stdout",
     "output_type": "stream",
     "text": [
      "not in\n"
     ]
    }
   ],
   "source": [
    "if 29 not in newf:\n",
    "    print('not in')\n",
    "else:\n",
    "    print('in')"
   ]
  },
  {
   "cell_type": "code",
   "execution_count": 85,
   "metadata": {},
   "outputs": [],
   "source": [
    "def get_alpha():\n",
    "    return 0.01"
   ]
  },
  {
   "cell_type": "code",
   "execution_count": 86,
   "metadata": {},
   "outputs": [
    {
     "data": {
      "text/plain": [
       "{(1, 1): 0.4962962962962963,\n",
       " (1, 2): 0.0024691358024691358,\n",
       " (1, 3): 0.24938271604938272,\n",
       " (1, 4): 0.0024691358024691358,\n",
       " (1, 5): 0.24938271604938272,\n",
       " (2, 1): 0.3311475409836066,\n",
       " (2, 2): 0.3311475409836066,\n",
       " (2, 3): 0.0032786885245901644,\n",
       " (2, 4): 0.0032786885245901644,\n",
       " (2, 5): 0.3311475409836066,\n",
       " (3, 1): 0.0024691358024691358,\n",
       " (3, 2): 0.4962962962962963,\n",
       " (3, 3): 0.24938271604938272,\n",
       " (3, 4): 0.0024691358024691358,\n",
       " (3, 5): 0.24938271604938272,\n",
       " (4, 1): 0.0032786885245901644,\n",
       " (4, 2): 0.3311475409836066,\n",
       " (4, 3): 0.3311475409836066,\n",
       " (4, 4): 0.0032786885245901644,\n",
       " (4, 5): 0.3311475409836066,\n",
       " (5, 1): 0.0024691358024691358,\n",
       " (5, 2): 0.4962962962962963,\n",
       " (5, 3): 0.0024691358024691358,\n",
       " (5, 4): 0.24938271604938272,\n",
       " (5, 5): 0.24938271604938272,\n",
       " (6, 1): 0.3311475409836066,\n",
       " (6, 2): 0.0032786885245901644,\n",
       " (6, 3): 0.3311475409836066,\n",
       " (6, 4): 0.3311475409836066,\n",
       " (6, 5): 0.0032786885245901644,\n",
       " (7, 1): 0.004878048780487806,\n",
       " (7, 2): 0.004878048780487806,\n",
       " (7, 3): 0.004878048780487806,\n",
       " (7, 4): 0.49268292682926834,\n",
       " (7, 5): 0.49268292682926834,\n",
       " (8, 1): 0.0019801980198019802,\n",
       " (8, 2): 0.398019801980198,\n",
       " (8, 3): 0.398019801980198,\n",
       " (8, 4): 0.0019801980198019802,\n",
       " (8, 5): 0.2,\n",
       " (9, 1): 0.009523809523809523,\n",
       " (9, 2): 0.009523809523809523,\n",
       " (9, 3): 0.009523809523809523,\n",
       " (9, 4): 0.009523809523809523,\n",
       " (9, 5): 0.9619047619047618,\n",
       " (nan, 1): 0.19999999999999998,\n",
       " (nan, 2): 0.19999999999999998,\n",
       " (nan, 3): 0.19999999999999998,\n",
       " (nan, 4): 0.19999999999999998,\n",
       " (nan, 5): 0.19999999999999998}"
      ]
     },
     "execution_count": 86,
     "metadata": {},
     "output_type": "execute_result"
    }
   ],
   "source": [
    "all_users = sorted(list(set(df['userId'])))\n",
    "\n",
    "\n",
    "def compute_prior(list_of_movies, possible_ratings):\n",
    "    # Let r_i be the rating of the i-th movie by any user\n",
    "    # P(r_i = y) where y is any user:\n",
    "    #           # users | r_u,i = y \n",
    "    #           -----------------------\n",
    "    #           # users | r_u,i =/= NA + # of plausible ratings\n",
    "    # i.e. P() a movie is rated y = # of usres that rated it y / # of users that rate =/= 'NA' + # of ratings for the movie\n",
    "    prior_probs = {}\n",
    "    alpha = get_alpha()\n",
    "\n",
    "    # prior represents the prob that the item i be rated by ANY user as y\n",
    "\n",
    "    for movie in list_of_movies:\n",
    "        for rating in possible_ratings:\n",
    "            num = len(df.loc[(df['movieId'] == movie) & (df['rating'] == rating) ]) + alpha\n",
    "            denom = len(users_that_rated_movie[movie]['userId']) + len(possible_ratings) * alpha\n",
    "            prior_probs[(movie, rating)] = num / denom\n",
    "        \n",
    "    for rating in possible_ratings:\n",
    "        num = alpha\n",
    "        denom = len(possible_ratings) * alpha\n",
    "        prior_probs[(np.NaN, rating)] = num/denom\n",
    "\n",
    "    return prior_probs\n",
    "\n",
    "list_of_movies = list(set(df['movieId']))\n",
    "possible_ratings = sorted(list(set(df['rating'])))\n",
    "prior_probs = compute_prior(list_of_movies, possible_ratings)\n",
    "prior_probs"
   ]
  },
  {
   "cell_type": "code",
   "execution_count": 87,
   "metadata": {},
   "outputs": [
    {
     "name": "stdout",
     "output_type": "stream",
     "text": [
      "yes\n"
     ]
    }
   ],
   "source": [
    "if (2, 3.0) in prior_probs.keys():\n",
    "    print('yes')"
   ]
  },
  {
   "cell_type": "code",
   "execution_count": 88,
   "metadata": {},
   "outputs": [
    {
     "data": {
      "text/plain": [
       "\"print('Enter user id that wants a recommendation:')\\ntest_userId = int(input())\\nprint('Enter movie id for unrated movie: ')\\nunrated_movieId = int(input())\""
      ]
     },
     "execution_count": 88,
     "metadata": {},
     "output_type": "execute_result"
    }
   ],
   "source": [
    "\"\"\"print('Enter user id that wants a recommendation:')\n",
    "test_userId = int(input())\n",
    "print('Enter movie id for unrated movie: ')\n",
    "unrated_movieId = int(input())\"\"\""
   ]
  },
  {
   "cell_type": "code",
   "execution_count": 89,
   "metadata": {},
   "outputs": [],
   "source": [
    "from numpy import NaN\n",
    "\n",
    "\n",
    "def compute_likelihoood(list_of_movies, possible_ratings, list_of_users, unrated_movieId):\n",
    "    # need to calculate likelihood\n",
    "    # P(r_j = k | r_i = y) where j is the j-th movie being rated as 'k', given that the rating of the i-th movie was 'y'\n",
    "    # ---------------> # users | r_u,j = k AND r_u,i = y\n",
    "    #                 ----------------------------------------\n",
    "    #               # users | r_u,j = NA AND r_u,i = y + # of possibilities\n",
    "    #\n",
    "    # ======== # of users that rated movie j as 'k' AND movie i rated as 'y' \n",
    "    #         ---------------------------------------------------------------\n",
    "    #       # of users that rated movie j as NA and rated movie i as y + all possibilities\n",
    "    alpha = get_alpha()\n",
    "    # posterior_prob = prior_prob P(r_i = y) * P(r_j = k | r_i = y) for every movie j rated by user u\n",
    "    #user_rated_movies = list(user_rated_movies_df.loc[user_rated_movies_df['userId'] == test_userId, ]['movieId'])[0]\n",
    "    #print(f\"Movies that user {test_userId} rated {user_rated_movies}\")\n",
    "\n",
    "    # likelihood values will only be calculated for movies that are rated by the specific user\n",
    "    likelihoods = []\n",
    "  \n",
    "\n",
    "    df_dict = {}\n",
    "    for user in list_of_users:\n",
    "        user_rated_movies = sorted(list(user_rated_movies_df.loc[user_rated_movies_df['userId'] == user, ]['movieId']))[0]\n",
    "        print(f\"Movies that user {user} rated {user_rated_movies}\") \n",
    "        likelihood_df = pd.DataFrame(columns=possible_ratings)\n",
    "\n",
    "        for i in range(len(user_rated_movies)):\n",
    "            rated_movieId = user_rated_movies[i]\n",
    "            for possible_rating in possible_ratings:\n",
    "            \n",
    "                rating = matrix.loc[user, rated_movieId]\n",
    "                if unrated_movieId not in newf:\n",
    "                    numerator = alpha\n",
    "                    denominator = len(possible_ratings) * alpha\n",
    "                else:\n",
    "                    numerator = len(newf.loc[(newf[rated_movieId] == rating) & (newf[unrated_movieId] == possible_rating)]) + alpha\n",
    "                    denominator = len(newf.loc[(newf[rated_movieId] != 'NaN') & (newf[unrated_movieId] == possible_rating)]) + len(possible_ratings) * alpha\n",
    "        \n",
    "                likelihood = numerator / denominator\n",
    "                likelihoods.append(likelihood)\n",
    "                \n",
    "            likelihood_df.loc[rated_movieId] = likelihoods\n",
    "            likelihoods = []\n",
    "        df_dict[user] = likelihood_df\n",
    "        #print(likelihood_df)\n",
    "        \n",
    "                \n",
    "    #print(df_dict)\n",
    "\n",
    "    return df_dict\n",
    "    \n",
    "\n",
    "    \n",
    "\n",
    "list_of_users = list(set(df['userId']))\n",
    "\n",
    "#df_dict = compute_likelihoood(list_of_movies, possible_ratings, all_users, unrated_movieId=unrated_movieId)"
   ]
  },
  {
   "cell_type": "code",
   "execution_count": 90,
   "metadata": {},
   "outputs": [],
   "source": [
    "def compute_posterior_probs(df_dict, prior_probs, user, unrated_movieId):\n",
    "    # first compute product of each column (feature) in likelihood_df\n",
    "    likelihood_df = df_dict[user]\n",
    "    col_product = pd.DataFrame(likelihood_df.product()).T\n",
    "\n",
    "    # multiply each product by corresponding prior (class) prob to get posterior prob\n",
    "    \n",
    "    posterior_probs = []\n",
    "    for i in range(len(col_product.columns)):\n",
    "        if unrated_movieId not in newf:\n",
    "            posterior_prob = prior_probs[(np.NaN, col_product.columns[i])] * col_product.iloc[0, i]\n",
    "        else: \n",
    "            posterior_prob = prior_probs[(unrated_movieId, col_product.columns[i])] * col_product.iloc[0, i]\n",
    "        posterior_probs.append(posterior_prob)\n",
    "\n",
    "    # make the posterior probs into a dataframe\n",
    "    posterior_probs_df = pd.DataFrame(posterior_probs).T\n",
    "    posterior_probs_df.columns = col_product.columns\n",
    "\n",
    "    #print(posterior_probs_df)\n",
    "\n",
    "    return posterior_probs_df\n",
    "\n",
    "#posterior_probs_df = compute_posterior_probs(df_dict=df_dict, prior_probs=prior_probs, user=test_userId)"
   ]
  },
  {
   "cell_type": "code",
   "execution_count": 91,
   "metadata": {},
   "outputs": [],
   "source": [
    "def arg_max(posterior_probs_df):\n",
    "    max_rating = np.argmax(posterior_probs_df) + 1\n",
    "    return max_rating\n"
   ]
  },
  {
   "cell_type": "code",
   "execution_count": 92,
   "metadata": {},
   "outputs": [
    {
     "name": "stdout",
     "output_type": "stream",
     "text": [
      "Movies that user 1 rated [9, 4, 2, 5, 3, 8]\n",
      "Movies that user 2 rated [5, 6, 3, 8, 1, 2]\n",
      "Movies that user 3 rated [5, 1, 7, 3, 8]\n",
      "Movies that user 4 rated [2, 8, 4, 1, 6]\n",
      "Movies that user 5 rated [3, 1, 4, 6, 5, 7, 8]\n",
      "Movies that user 1 rated [9, 4, 2, 5, 3, 8]\n",
      "Movies that user 2 rated [5, 6, 3, 8, 1, 2]\n",
      "Movies that user 3 rated [5, 1, 7, 3, 8]\n",
      "Movies that user 4 rated [2, 8, 4, 1, 6]\n",
      "Movies that user 5 rated [3, 1, 4, 6, 5, 7, 8]\n",
      "Movies that user 1 rated [9, 4, 2, 5, 3, 8]\n",
      "Movies that user 2 rated [5, 6, 3, 8, 1, 2]\n",
      "Movies that user 3 rated [5, 1, 7, 3, 8]\n",
      "Movies that user 4 rated [2, 8, 4, 1, 6]\n",
      "Movies that user 5 rated [3, 1, 4, 6, 5, 7, 8]\n",
      "Movies that user 1 rated [9, 4, 2, 5, 3, 8]\n",
      "Movies that user 2 rated [5, 6, 3, 8, 1, 2]\n",
      "Movies that user 3 rated [5, 1, 7, 3, 8]\n",
      "Movies that user 4 rated [2, 8, 4, 1, 6]\n",
      "Movies that user 5 rated [3, 1, 4, 6, 5, 7, 8]\n",
      "Movies that user 1 rated [9, 4, 2, 5, 3, 8]\n",
      "Movies that user 2 rated [5, 6, 3, 8, 1, 2]\n",
      "Movies that user 3 rated [5, 1, 7, 3, 8]\n",
      "Movies that user 4 rated [2, 8, 4, 1, 6]\n",
      "Movies that user 5 rated [3, 1, 4, 6, 5, 7, 8]\n",
      "Movies that user 1 rated [9, 4, 2, 5, 3, 8]\n",
      "Movies that user 2 rated [5, 6, 3, 8, 1, 2]\n",
      "Movies that user 3 rated [5, 1, 7, 3, 8]\n",
      "Movies that user 4 rated [2, 8, 4, 1, 6]\n",
      "Movies that user 5 rated [3, 1, 4, 6, 5, 7, 8]\n",
      "Movies that user 1 rated [9, 4, 2, 5, 3, 8]\n",
      "Movies that user 2 rated [5, 6, 3, 8, 1, 2]\n",
      "Movies that user 3 rated [5, 1, 7, 3, 8]\n",
      "Movies that user 4 rated [2, 8, 4, 1, 6]\n",
      "Movies that user 5 rated [3, 1, 4, 6, 5, 7, 8]\n"
     ]
    },
    {
     "data": {
      "text/html": [
       "<div>\n",
       "<style scoped>\n",
       "    .dataframe tbody tr th:only-of-type {\n",
       "        vertical-align: middle;\n",
       "    }\n",
       "\n",
       "    .dataframe tbody tr th {\n",
       "        vertical-align: top;\n",
       "    }\n",
       "\n",
       "    .dataframe thead th {\n",
       "        text-align: right;\n",
       "    }\n",
       "</style>\n",
       "<table border=\"1\" class=\"dataframe\">\n",
       "  <thead>\n",
       "    <tr style=\"text-align: right;\">\n",
       "      <th></th>\n",
       "      <th>userId</th>\n",
       "      <th>movieId</th>\n",
       "      <th>rating</th>\n",
       "      <th>enjoyed</th>\n",
       "      <th>predicted rating</th>\n",
       "      <th>predicted enjoyment</th>\n",
       "      <th>correct prediction</th>\n",
       "    </tr>\n",
       "  </thead>\n",
       "  <tbody>\n",
       "    <tr>\n",
       "      <th>4</th>\n",
       "      <td>1</td>\n",
       "      <td>7</td>\n",
       "      <td>4</td>\n",
       "      <td>True</td>\n",
       "      <td>4</td>\n",
       "      <td>True</td>\n",
       "      <td>True</td>\n",
       "    </tr>\n",
       "    <tr>\n",
       "      <th>12</th>\n",
       "      <td>2</td>\n",
       "      <td>7</td>\n",
       "      <td>4</td>\n",
       "      <td>True</td>\n",
       "      <td>4</td>\n",
       "      <td>True</td>\n",
       "      <td>True</td>\n",
       "    </tr>\n",
       "    <tr>\n",
       "      <th>15</th>\n",
       "      <td>3</td>\n",
       "      <td>2</td>\n",
       "      <td>1</td>\n",
       "      <td>False</td>\n",
       "      <td>5</td>\n",
       "      <td>True</td>\n",
       "      <td>False</td>\n",
       "    </tr>\n",
       "    <tr>\n",
       "      <th>18</th>\n",
       "      <td>3</td>\n",
       "      <td>6</td>\n",
       "      <td>4</td>\n",
       "      <td>True</td>\n",
       "      <td>3</td>\n",
       "      <td>False</td>\n",
       "      <td>False</td>\n",
       "    </tr>\n",
       "    <tr>\n",
       "      <th>23</th>\n",
       "      <td>4</td>\n",
       "      <td>3</td>\n",
       "      <td>2</td>\n",
       "      <td>False</td>\n",
       "      <td>1</td>\n",
       "      <td>False</td>\n",
       "      <td>True</td>\n",
       "    </tr>\n",
       "    <tr>\n",
       "      <th>26</th>\n",
       "      <td>4</td>\n",
       "      <td>7</td>\n",
       "      <td>3</td>\n",
       "      <td>False</td>\n",
       "      <td>1</td>\n",
       "      <td>False</td>\n",
       "      <td>True</td>\n",
       "    </tr>\n",
       "    <tr>\n",
       "      <th>29</th>\n",
       "      <td>5</td>\n",
       "      <td>2</td>\n",
       "      <td>1</td>\n",
       "      <td>False</td>\n",
       "      <td>3</td>\n",
       "      <td>False</td>\n",
       "      <td>True</td>\n",
       "    </tr>\n",
       "  </tbody>\n",
       "</table>\n",
       "</div>"
      ],
      "text/plain": [
       "    userId  movieId  rating  enjoyed  predicted rating  predicted enjoyment  \\\n",
       "4        1        7       4     True                 4                 True   \n",
       "12       2        7       4     True                 4                 True   \n",
       "15       3        2       1    False                 5                 True   \n",
       "18       3        6       4     True                 3                False   \n",
       "23       4        3       2    False                 1                False   \n",
       "26       4        7       3    False                 1                False   \n",
       "29       5        2       1    False                 3                False   \n",
       "\n",
       "    correct prediction  \n",
       "4                 True  \n",
       "12                True  \n",
       "15               False  \n",
       "18               False  \n",
       "23                True  \n",
       "26                True  \n",
       "29                True  "
      ]
     },
     "execution_count": 92,
     "metadata": {},
     "output_type": "execute_result"
    }
   ],
   "source": [
    "def evaluation(testing_data):\n",
    "    # go through the users in testing data, find their predicted ratings for a movie and comapre with actual column\n",
    "    li = []\n",
    "\n",
    "    for index, row in testing_data.iterrows():\n",
    "        test_userId = row['userId']\n",
    "        unrated_movieId = row['movieId']\n",
    "        #print(test_userId, unrated_movieId)\n",
    "        #set unrated_movieId = 1 to check if values are calculated correctly\n",
    "        df_dict = compute_likelihoood(list_of_movies=list_of_movies, possible_ratings=possible_ratings, list_of_users=list_of_users, unrated_movieId=unrated_movieId)\n",
    "       # print('here')\n",
    "        rating = arg_max(compute_posterior_probs(df_dict, prior_probs, test_userId, unrated_movieId))\n",
    "        li.append(rating)\n",
    "\n",
    "    testing_data['predicted rating'] = li\n",
    "    testing_data['predicted enjoyment'] = (testing_data['predicted rating'] > 3)\n",
    "\n",
    "    \n",
    "    return testing_data\n",
    "\n",
    "results = evaluation(testing_data)\n",
    "results['correct prediction'] = (results['enjoyed'] == results['predicted enjoyment'])\n",
    "results\n"
   ]
  },
  {
   "cell_type": "code",
   "execution_count": 93,
   "metadata": {},
   "outputs": [
    {
     "data": {
      "text/plain": [
       "0.2857142857142857"
      ]
     },
     "execution_count": 93,
     "metadata": {},
     "output_type": "execute_result"
    }
   ],
   "source": [
    "mse = mean_squared_error(results['enjoyed'].astype(int), results['predicted enjoyment'].astype(int))\n",
    "mse"
   ]
  },
  {
   "cell_type": "markdown",
   "metadata": {},
   "source": [
    "### Sources used"
   ]
  },
  {
   "cell_type": "code",
   "execution_count": 94,
   "metadata": {},
   "outputs": [
    {
     "data": {
      "text/plain": [
       "'https://ieeexplore.ieee.org/stamp/stamp.jsp?tp=&arnumber=8787761'"
      ]
     },
     "execution_count": 94,
     "metadata": {},
     "output_type": "execute_result"
    }
   ],
   "source": [
    "'https://www.youtube.com/watch?v=3I8oX3OUL6I'\n",
    "'https://www.youtube.com/watch?v=lFJbZ6LVxN8'\n",
    "'https://ieeexplore.ieee.org/stamp/stamp.jsp?tp=&arnumber=8787761'"
   ]
  },
  {
   "cell_type": "code",
   "execution_count": null,
   "metadata": {},
   "outputs": [],
   "source": []
  }
 ],
 "metadata": {
  "kernelspec": {
   "display_name": "Python 3.10.6 64-bit (windows store)",
   "language": "python",
   "name": "python3"
  },
  "language_info": {
   "codemirror_mode": {
    "name": "ipython",
    "version": 3
   },
   "file_extension": ".py",
   "mimetype": "text/x-python",
   "name": "python",
   "nbconvert_exporter": "python",
   "pygments_lexer": "ipython3",
   "version": "3.10.6"
  },
  "orig_nbformat": 4,
  "vscode": {
   "interpreter": {
    "hash": "bc7f65f86a7519befd1b1487f80eb3629a9c8e731cf2d463b09fda42954ad838"
   }
  }
 },
 "nbformat": 4,
 "nbformat_minor": 2
}
